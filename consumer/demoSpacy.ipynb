{
 "cells": [
  {
   "cell_type": "code",
   "execution_count": 1,
   "metadata": {},
   "outputs": [
    {
     "name": "stdout",
     "output_type": "stream",
     "text": [
      "Token: Apple\n",
      "  POS: PROPN\n",
      "  Dependencies: compound\n",
      "Token: stock\n",
      "  POS: NOUN\n",
      "  Dependencies: nsubj\n",
      "Token: rose\n",
      "  POS: VERB\n",
      "  Dependencies: ROOT\n",
      "Token: 5\n",
      "  POS: NUM\n",
      "  Dependencies: nummod\n",
      "Token: %\n",
      "  POS: NOUN\n",
      "  Dependencies: npadvmod\n",
      "Token: in\n",
      "  POS: ADP\n",
      "  Dependencies: prep\n",
      "Token: tech\n",
      "  POS: NOUN\n",
      "  Dependencies: compound\n",
      "Token: market\n",
      "  POS: NOUN\n",
      "  Dependencies: compound\n",
      "Token: trading\n",
      "  POS: NOUN\n",
      "  Dependencies: pobj\n",
      "Token: .\n",
      "  POS: PUNCT\n",
      "  Dependencies: punct\n",
      "Entity: Apple\n",
      "  Label: ORG\n",
      "Entity: 5%\n",
      "  Label: PERCENT\n",
      "Sentence: Apple stock rose 5% in tech market trading.\n"
     ]
    }
   ],
   "source": [
    "import spacy\n",
    "\n",
    "def demonstrate_spacy():\n",
    "    nlp = spacy.load(\"en_core_web_sm\")\n",
    "    text = \"Apple stock rose 5% in tech market trading.\"\n",
    "    doc = nlp(text)\n",
    "    \n",
    "    # Print tokens and their properties\n",
    "    for token in doc:\n",
    "        print(f\"Token: {token.text}\")\n",
    "        print(f\"  POS: {token.pos_}\")\n",
    "        print(f\"  Dependencies: {token.dep_}\")\n",
    "    \n",
    "    # Print named entities\n",
    "    for ent in doc.ents:\n",
    "        print(f\"Entity: {ent.text}\")\n",
    "        print(f\"  Label: {ent.label_}\")\n",
    "    \n",
    "    # Print sentences\n",
    "    for sent in doc.sents:\n",
    "        print(f\"Sentence: {sent.text}\")\n",
    "        \n",
    "demonstrate_spacy()\n",
    "\n"
   ]
  }
 ],
 "metadata": {
  "kernelspec": {
   "display_name": "venv",
   "language": "python",
   "name": "python3"
  },
  "language_info": {
   "codemirror_mode": {
    "name": "ipython",
    "version": 3
   },
   "file_extension": ".py",
   "mimetype": "text/x-python",
   "name": "python",
   "nbconvert_exporter": "python",
   "pygments_lexer": "ipython3",
   "version": "3.10.7"
  }
 },
 "nbformat": 4,
 "nbformat_minor": 2
}
